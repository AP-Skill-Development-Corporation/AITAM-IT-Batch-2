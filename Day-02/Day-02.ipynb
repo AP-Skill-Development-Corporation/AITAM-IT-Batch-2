{
 "cells": [
  {
   "cell_type": "markdown",
   "id": "def7e799",
   "metadata": {},
   "source": [
    "# Variable:\n",
    "    - to Store a value\n",
    "    - To Change a value"
   ]
  },
  {
   "cell_type": "code",
   "execution_count": 2,
   "id": "51c56376",
   "metadata": {},
   "outputs": [
    {
     "data": {
      "text/plain": [
       "20"
      ]
     },
     "execution_count": 2,
     "metadata": {},
     "output_type": "execute_result"
    }
   ],
   "source": [
    "y = 20\n",
    "y"
   ]
  },
  {
   "cell_type": "code",
   "execution_count": 3,
   "id": "5cf01fee",
   "metadata": {},
   "outputs": [
    {
     "data": {
      "text/plain": [
       "21"
      ]
     },
     "execution_count": 3,
     "metadata": {},
     "output_type": "execute_result"
    }
   ],
   "source": [
    "y+=1\n",
    "y"
   ]
  },
  {
   "cell_type": "code",
   "execution_count": 4,
   "id": "7597c77f",
   "metadata": {},
   "outputs": [
    {
     "name": "stdout",
     "output_type": "stream",
     "text": [
      "20 30\n"
     ]
    }
   ],
   "source": [
    "v = 20\n",
    "b = 30\n",
    "print(v,b)"
   ]
  },
  {
   "cell_type": "code",
   "execution_count": 5,
   "id": "c14be879",
   "metadata": {},
   "outputs": [
    {
     "ename": "ValueError",
     "evalue": "too many values to unpack (expected 3)",
     "output_type": "error",
     "traceback": [
      "\u001b[1;31m---------------------------------------------------------------------\u001b[0m",
      "\u001b[1;31mValueError\u001b[0m                          Traceback (most recent call last)",
      "\u001b[1;32m<ipython-input-5-626a7257e59f>\u001b[0m in \u001b[0;36m<module>\u001b[1;34m\u001b[0m\n\u001b[1;32m----> 1\u001b[1;33m \u001b[0mg\u001b[0m\u001b[1;33m,\u001b[0m \u001b[0mk\u001b[0m\u001b[1;33m,\u001b[0m \u001b[0mp\u001b[0m \u001b[1;33m=\u001b[0m \u001b[1;36m20\u001b[0m\u001b[1;33m,\u001b[0m\u001b[1;36m45.00\u001b[0m\u001b[1;33m,\u001b[0m\u001b[1;32mTrue\u001b[0m\u001b[1;33m,\u001b[0m\u001b[1;34m'45'\u001b[0m\u001b[1;33m\u001b[0m\u001b[1;33m\u001b[0m\u001b[0m\n\u001b[0m\u001b[0;32m      2\u001b[0m \u001b[0mprint\u001b[0m\u001b[1;33m(\u001b[0m\u001b[0mg\u001b[0m\u001b[1;33m,\u001b[0m\u001b[0mk\u001b[0m\u001b[1;33m,\u001b[0m\u001b[0mp\u001b[0m\u001b[1;33m)\u001b[0m\u001b[1;33m\u001b[0m\u001b[1;33m\u001b[0m\u001b[0m\n",
      "\u001b[1;31mValueError\u001b[0m: too many values to unpack (expected 3)"
     ]
    }
   ],
   "source": [
    "g, k, p = 20,45.00,True,'45'\n",
    "print(g,k,p)"
   ]
  },
  {
   "cell_type": "code",
   "execution_count": 6,
   "id": "4b2c821e",
   "metadata": {},
   "outputs": [
    {
     "ename": "ValueError",
     "evalue": "not enough values to unpack (expected 5, got 4)",
     "output_type": "error",
     "traceback": [
      "\u001b[1;31m---------------------------------------------------------------------\u001b[0m",
      "\u001b[1;31mValueError\u001b[0m                          Traceback (most recent call last)",
      "\u001b[1;32m<ipython-input-6-ddece7b61309>\u001b[0m in \u001b[0;36m<module>\u001b[1;34m\u001b[0m\n\u001b[1;32m----> 1\u001b[1;33m \u001b[0mg\u001b[0m\u001b[1;33m,\u001b[0m \u001b[0mk\u001b[0m\u001b[1;33m,\u001b[0m \u001b[0mp\u001b[0m\u001b[1;33m,\u001b[0m\u001b[0mm\u001b[0m\u001b[1;33m,\u001b[0m\u001b[0mn\u001b[0m \u001b[1;33m=\u001b[0m \u001b[1;36m20\u001b[0m\u001b[1;33m,\u001b[0m\u001b[1;36m45.00\u001b[0m\u001b[1;33m,\u001b[0m\u001b[1;32mTrue\u001b[0m\u001b[1;33m,\u001b[0m\u001b[1;34m'45'\u001b[0m\u001b[1;33m\u001b[0m\u001b[1;33m\u001b[0m\u001b[0m\n\u001b[0m\u001b[0;32m      2\u001b[0m \u001b[0mprint\u001b[0m\u001b[1;33m(\u001b[0m\u001b[0mg\u001b[0m\u001b[1;33m,\u001b[0m\u001b[0mk\u001b[0m\u001b[1;33m,\u001b[0m\u001b[0mp\u001b[0m\u001b[1;33m,\u001b[0m\u001b[0mm\u001b[0m\u001b[1;33m,\u001b[0m\u001b[0mn\u001b[0m\u001b[1;33m)\u001b[0m\u001b[1;33m\u001b[0m\u001b[1;33m\u001b[0m\u001b[0m\n",
      "\u001b[1;31mValueError\u001b[0m: not enough values to unpack (expected 5, got 4)"
     ]
    }
   ],
   "source": [
    "g, k, p,m,n = 20,45.00,True,'45'\n",
    "print(g,k,p,m,n)"
   ]
  },
  {
   "cell_type": "code",
   "execution_count": 7,
   "id": "df457275",
   "metadata": {},
   "outputs": [
    {
     "name": "stdout",
     "output_type": "stream",
     "text": [
      "50 50 50\n"
     ]
    }
   ],
   "source": [
    "x = h = e = 50\n",
    "print(x,h,e)"
   ]
  },
  {
   "cell_type": "markdown",
   "id": "870e730b",
   "metadata": {},
   "source": [
    "# Input:\n",
    "    - To display an info to a user\n",
    "    - To read a value from a user\n",
    "    - By default it stores string data type values"
   ]
  },
  {
   "cell_type": "code",
   "execution_count": 8,
   "id": "e5efa553",
   "metadata": {},
   "outputs": [
    {
     "name": "stdout",
     "output_type": "stream",
     "text": [
      "Enter a number: 45\n",
      "45\n"
     ]
    },
    {
     "data": {
      "text/plain": [
       "'45'"
      ]
     },
     "execution_count": 8,
     "metadata": {},
     "output_type": "execute_result"
    }
   ],
   "source": [
    "h = input(\"Enter a number: \")\n",
    "print(h)\n",
    "h"
   ]
  },
  {
   "cell_type": "code",
   "execution_count": 13,
   "id": "741e4e2e",
   "metadata": {},
   "outputs": [
    {
     "name": "stdout",
     "output_type": "stream",
     "text": [
      "Enter a value: 3\n",
      "Enter b value: 6\n",
      "Addition of  3  and 6  is: 9\n",
      "Addition of 3 and 6 is: 9\n",
      "Addition of 3 and 6 is: 9\n",
      "Addition of 3 and 6 is: 9\n"
     ]
    }
   ],
   "source": [
    "a = int(input(\"Enter a value: \"))\n",
    "b = int(input(\"Enter b value: \"))\n",
    "print(\"Addition of \",a,\" and\",b,\" is:\",(a+b))\n",
    "print(\"Addition of %d and %d is: %d\"%(a,b,a+b))\n",
    "print(\"Addition of {} and {} is: {}\".format(a,b,a+b))\n",
    "print(f\"Addition of {a} and {b} is: {a+b}\")"
   ]
  },
  {
   "cell_type": "code",
   "execution_count": 14,
   "id": "07620a7a",
   "metadata": {},
   "outputs": [],
   "source": [
    "g = 20"
   ]
  },
  {
   "cell_type": "code",
   "execution_count": 15,
   "id": "9c30f0d5",
   "metadata": {},
   "outputs": [
    {
     "data": {
      "text/plain": [
       "int"
      ]
     },
     "execution_count": 15,
     "metadata": {},
     "output_type": "execute_result"
    }
   ],
   "source": [
    "type(g)"
   ]
  },
  {
   "cell_type": "code",
   "execution_count": 16,
   "id": "7f76689e",
   "metadata": {},
   "outputs": [
    {
     "name": "stdout",
     "output_type": "stream",
     "text": [
      "<class 'int'>\n"
     ]
    }
   ],
   "source": [
    "print(type(g))"
   ]
  },
  {
   "cell_type": "markdown",
   "id": "81df17b2",
   "metadata": {},
   "source": [
    "# List:\n",
    "    - It can be represented as \"[]\"\n",
    "    - It stores the data in ordered format\n",
    "    - Slicing can be done because of index\n",
    "    - Type casting can be done by using list()\n",
    "    - Changes can be done \n",
    "    - It stores different data type elements\n",
    "    - It stores duplicate elements"
   ]
  },
  {
   "cell_type": "code",
   "execution_count": 17,
   "id": "94da7d51",
   "metadata": {},
   "outputs": [
    {
     "name": "stdout",
     "output_type": "stream",
     "text": [
      "['__add__', '__class__', '__contains__', '__delattr__', '__delitem__', '__dir__', '__doc__', '__eq__', '__format__', '__ge__', '__getattribute__', '__getitem__', '__gt__', '__hash__', '__iadd__', '__imul__', '__init__', '__init_subclass__', '__iter__', '__le__', '__len__', '__lt__', '__mul__', '__ne__', '__new__', '__reduce__', '__reduce_ex__', '__repr__', '__reversed__', '__rmul__', '__setattr__', '__setitem__', '__sizeof__', '__str__', '__subclasshook__', 'append', 'clear', 'copy', 'count', 'extend', 'index', 'insert', 'pop', 'remove', 'reverse', 'sort']\n"
     ]
    }
   ],
   "source": [
    "print(dir(list))"
   ]
  },
  {
   "cell_type": "code",
   "execution_count": 18,
   "id": "8ebac6c0",
   "metadata": {},
   "outputs": [],
   "source": [
    "k = [12,45]"
   ]
  },
  {
   "cell_type": "code",
   "execution_count": 19,
   "id": "108de1fa",
   "metadata": {},
   "outputs": [
    {
     "name": "stdout",
     "output_type": "stream",
     "text": [
      "<class 'list'>\n"
     ]
    }
   ],
   "source": [
    "print(type(k))"
   ]
  },
  {
   "cell_type": "markdown",
   "id": "3a346d6d",
   "metadata": {},
   "source": [
    "# Tuple:\n",
    "    - It can be represented as \"()\"\n",
    "    - It stores the data in ordered format\n",
    "    - Slicing can be done because of index\n",
    "    - Type casting can be done by using tuple()\n",
    "    - Changes can't be done \n",
    "    - It stores different data type elements\n",
    "    - It stores duplicate elements"
   ]
  },
  {
   "cell_type": "code",
   "execution_count": 20,
   "id": "103a2cda",
   "metadata": {},
   "outputs": [],
   "source": [
    "g = (45,23)"
   ]
  },
  {
   "cell_type": "code",
   "execution_count": 21,
   "id": "83cce53b",
   "metadata": {},
   "outputs": [
    {
     "name": "stdout",
     "output_type": "stream",
     "text": [
      "['__add__', '__class__', '__contains__', '__delattr__', '__dir__', '__doc__', '__eq__', '__format__', '__ge__', '__getattribute__', '__getitem__', '__getnewargs__', '__gt__', '__hash__', '__init__', '__init_subclass__', '__iter__', '__le__', '__len__', '__lt__', '__mul__', '__ne__', '__new__', '__reduce__', '__reduce_ex__', '__repr__', '__rmul__', '__setattr__', '__sizeof__', '__str__', '__subclasshook__', 'count', 'index']\n"
     ]
    }
   ],
   "source": [
    "print(dir(g))"
   ]
  },
  {
   "cell_type": "code",
   "execution_count": 22,
   "id": "a6053f69",
   "metadata": {},
   "outputs": [
    {
     "name": "stdout",
     "output_type": "stream",
     "text": [
      "<class 'tuple'>\n"
     ]
    }
   ],
   "source": [
    "print(type(g))"
   ]
  },
  {
   "cell_type": "code",
   "execution_count": 23,
   "id": "80ac7632",
   "metadata": {},
   "outputs": [
    {
     "name": "stdout",
     "output_type": "stream",
     "text": [
      "<class 'dict'>\n",
      "<class 'set'>\n"
     ]
    }
   ],
   "source": [
    "h = {}\n",
    "pm = {'5'}\n",
    "print(type(h))\n",
    "print(type(pm))"
   ]
  },
  {
   "cell_type": "markdown",
   "id": "d2277ebf",
   "metadata": {},
   "source": [
    "# Set:\n",
    "    - It can be represented with \"{}\" with single value\n",
    "    - It stores different data type elements\n",
    "    - It stores the data in unordered format\n",
    "    - Slicing can't be done because of no index\n",
    "    - It can changes the value\n",
    "    - Duplicate values are not allowed\n",
    "    - It can be type casted as set()"
   ]
  },
  {
   "cell_type": "code",
   "execution_count": 26,
   "id": "c6b567bd",
   "metadata": {},
   "outputs": [
    {
     "name": "stdout",
     "output_type": "stream",
     "text": [
      "{354, '1.25', '3.12', 13, 45, 78, 21, 89}\n",
      "<class 'set'>\n"
     ]
    },
    {
     "data": {
      "text/plain": [
       "{'1.25', 13, 21, '3.12', 354, 45, 78, 89}"
      ]
     },
     "execution_count": 26,
     "metadata": {},
     "output_type": "execute_result"
    }
   ],
   "source": [
    "t = {45,78,78,89,45,45,13,21,354,'3.12','1.25'}\n",
    "print(t)\n",
    "print(type(t))\n",
    "t"
   ]
  },
  {
   "cell_type": "markdown",
   "id": "df5c95cd",
   "metadata": {},
   "source": [
    "# Dictionary:\n",
    "    - It can be represented as \"{}\" by default it is dictionary without any values\n",
    "    - It stores the data in key and value pairs\n",
    "    - Keys doesnt allow duplicate names but values can\n",
    "    - Slicing can be done for values but not for keys\n",
    "    - It can be type casted as dict()"
   ]
  },
  {
   "cell_type": "code",
   "execution_count": 27,
   "id": "e97cce88",
   "metadata": {},
   "outputs": [],
   "source": [
    "w = {'name':['prasad','lalitha'],'age':25}"
   ]
  },
  {
   "cell_type": "code",
   "execution_count": 28,
   "id": "7ff86ac8",
   "metadata": {},
   "outputs": [
    {
     "name": "stdout",
     "output_type": "stream",
     "text": [
      "{'name': ['prasad', 'lalitha'], 'age': 25}\n",
      "<class 'dict'>\n"
     ]
    }
   ],
   "source": [
    "print(w)\n",
    "print(type(w))"
   ]
  },
  {
   "cell_type": "code",
   "execution_count": 29,
   "id": "cd00c41c",
   "metadata": {},
   "outputs": [
    {
     "name": "stdout",
     "output_type": "stream",
     "text": [
      "['__class__', '__contains__', '__delattr__', '__delitem__', '__dir__', '__doc__', '__eq__', '__format__', '__ge__', '__getattribute__', '__getitem__', '__gt__', '__hash__', '__init__', '__init_subclass__', '__iter__', '__le__', '__len__', '__lt__', '__ne__', '__new__', '__reduce__', '__reduce_ex__', '__repr__', '__setattr__', '__setitem__', '__sizeof__', '__str__', '__subclasshook__', 'clear', 'copy', 'fromkeys', 'get', 'items', 'keys', 'pop', 'popitem', 'setdefault', 'update', 'values']\n"
     ]
    }
   ],
   "source": [
    "print(dir(dict))"
   ]
  },
  {
   "cell_type": "code",
   "execution_count": 35,
   "id": "12f6fe65",
   "metadata": {},
   "outputs": [
    {
     "name": "stdout",
     "output_type": "stream",
     "text": [
      "prSAD\n"
     ]
    }
   ],
   "source": [
    "b = 'prSAD'\n",
    "print(b)"
   ]
  },
  {
   "cell_type": "markdown",
   "id": "53883095",
   "metadata": {},
   "source": [
    "# Functions:\n",
    "    - To Perform a Specific Task\n",
    "    - 2 types they are\n",
    "        => Built-in\n",
    "        => User Defined\n",
    "    - Syntax:\n",
    "    =========\n",
    "        def functionname(arguments):\n",
    "            //stmnts\n",
    "            return return_value"
   ]
  },
  {
   "cell_type": "markdown",
   "id": "b759f5c2",
   "metadata": {},
   "source": [
    "# User Defined Functions\n",
    "    - with returntype and with arguments\n",
    "    - with retutntype and without arguments\n",
    "    - without returntype and with arguments\n",
    "    - without returntype and without arguments"
   ]
  },
  {
   "cell_type": "code",
   "execution_count": 49,
   "id": "42ac8e93",
   "metadata": {},
   "outputs": [
    {
     "name": "stdout",
     "output_type": "stream",
     "text": [
      "Enter a value: 5\n",
      "Enter b value: 2\n",
      "Addition of 5 and 2 is: 7\n"
     ]
    }
   ],
   "source": [
    "# with returntype and with arguments\n",
    "# Reading -> main\n",
    "# Printing -> Main\n",
    "# Logic -> Function\n",
    "def ht(na,ag):\n",
    "    return na+ag\n",
    "\n",
    "n = int(input(\"Enter a value: \"))\n",
    "b = int(input(\"Enter b value: \"))\n",
    "print(\"Addition of {} and {} is: {}\".format(n,b,ht(n,b)))"
   ]
  },
  {
   "cell_type": "code",
   "execution_count": 50,
   "id": "7d0614a5",
   "metadata": {},
   "outputs": [
    {
     "name": "stdout",
     "output_type": "stream",
     "text": [
      "Enter a value: 3\n",
      "Enter b value: 6\n",
      "Addition of 3 and 6 is:  9\n"
     ]
    }
   ],
   "source": [
    "# with returntype and without arguments\n",
    "# Reading -> Function\n",
    "# Printing -> Main\n",
    "# Logic -> Function\n",
    "def ht():\n",
    "    n = int(input(\"Enter a value: \"))\n",
    "    b = int(input(\"Enter b value: \"))\n",
    "    print(\"Addition of {} and {} is: \".format(n,b),end=\" \")\n",
    "    return n+b\n",
    "\n",
    "\n",
    "print(\"{}\".format(ht()))"
   ]
  },
  {
   "cell_type": "code",
   "execution_count": 54,
   "id": "3d76fd2c",
   "metadata": {},
   "outputs": [
    {
     "name": "stdout",
     "output_type": "stream",
     "text": [
      "Enter a value: 1\n",
      "Enter b value: 2\n",
      "Addition of 1 and 2 is: 3\n"
     ]
    }
   ],
   "source": [
    "# without returntype and with arguments\n",
    "# Reading -> Main\n",
    "# Printing -> Function\n",
    "# Logic -> Function\n",
    "def ht(m,n):\n",
    "    print(\"Addition of {} and {} is: {}\".format(m,n,m+n))\n",
    "    return \n",
    "\n",
    "n = int(input(\"Enter a value: \"))\n",
    "b = int(input(\"Enter b value: \"))\n",
    "ht(n,b)"
   ]
  },
  {
   "cell_type": "code",
   "execution_count": 55,
   "id": "0640c946",
   "metadata": {},
   "outputs": [
    {
     "name": "stdout",
     "output_type": "stream",
     "text": [
      "Enter a value: 1\n",
      "Enter b value: 5\n",
      "Addition of 1 and 5 is: 6\n"
     ]
    }
   ],
   "source": [
    "# without returntype and without arguments\n",
    "# Reading -> Function\n",
    "# Printing -> Function\n",
    "# Logic -> Function\n",
    "def ht():\n",
    "    n = int(input(\"Enter a value: \"))\n",
    "    b = int(input(\"Enter b value: \"))\n",
    "    print(\"Addition of {} and {} is: {}\".format(n,b,n+b))\n",
    "    return \n",
    "\n",
    "\n",
    "ht()"
   ]
  },
  {
   "cell_type": "markdown",
   "id": "7c9acf33",
   "metadata": {},
   "source": [
    "# Function arguments\n",
    "    - Default\n",
    "    - Keyword\n",
    "    - Positional\n",
    "    - Variable Length"
   ]
  },
  {
   "cell_type": "code",
   "execution_count": 58,
   "id": "a7210dd8",
   "metadata": {},
   "outputs": [
    {
     "ename": "SyntaxError",
     "evalue": "non-default argument follows default argument (<ipython-input-58-84f5dd4b393f>, line 3)",
     "output_type": "error",
     "traceback": [
      "\u001b[1;36m  File \u001b[1;32m\"<ipython-input-58-84f5dd4b393f>\"\u001b[1;36m, line \u001b[1;32m3\u001b[0m\n\u001b[1;33m    def sd(sn='jagadeesh',ag):\u001b[0m\n\u001b[1;37m          ^\u001b[0m\n\u001b[1;31mSyntaxError\u001b[0m\u001b[1;31m:\u001b[0m non-default argument follows default argument\n"
     ]
    }
   ],
   "source": [
    "# Default argument\n",
    "\n",
    "def sd(sn='jagadeesh',ag):\n",
    "    print(\"Entered name is: {}\\nAge is: {}\".format(sn,ag))\n",
    "    return\n",
    "\n",
    "n = input(\"Enter a name: \")\n",
    "p = int(input(\"Enter an age: \"))\n",
    "sd(n,p)"
   ]
  },
  {
   "cell_type": "code",
   "execution_count": 62,
   "id": "8850cee2",
   "metadata": {},
   "outputs": [
    {
     "ename": "SyntaxError",
     "evalue": "positional argument follows keyword argument (<ipython-input-62-0218845b080a>, line 10)",
     "output_type": "error",
     "traceback": [
      "\u001b[1;36m  File \u001b[1;32m\"<ipython-input-62-0218845b080a>\"\u001b[1;36m, line \u001b[1;32m10\u001b[0m\n\u001b[1;33m    fy(en=n,es=s,ea=a,py)\u001b[0m\n\u001b[1;37m                     ^\u001b[0m\n\u001b[1;31mSyntaxError\u001b[0m\u001b[1;31m:\u001b[0m positional argument follows keyword argument\n"
     ]
    }
   ],
   "source": [
    "# Keyword argument\n",
    "def fy(en,ea,es,pj=kl):\n",
    "    print(\"Entered name is: {}\\nEntered age is: {}\\n\"\n",
    "    \"Entered salary is: {}\".format(en,ea,es))\n",
    "    return\n",
    "\n",
    "n = input(\"enter name: \")\n",
    "a = int(input(\"enter age: \"))\n",
    "s = int(input(\"enter sal: \"))\n",
    "fy(en=n,es=s,ea=a,py)"
   ]
  },
  {
   "cell_type": "code",
   "execution_count": 65,
   "id": "9ecffbe9",
   "metadata": {},
   "outputs": [
    {
     "ename": "TypeError",
     "evalue": "ty() takes 2 positional arguments but 3 were given",
     "output_type": "error",
     "traceback": [
      "\u001b[1;31m--------------------------------------------------------------------\u001b[0m",
      "\u001b[1;31mTypeError\u001b[0m                          Traceback (most recent call last)",
      "\u001b[1;32m<ipython-input-65-38453ef9f366>\u001b[0m in \u001b[0;36m<module>\u001b[1;34m\u001b[0m\n\u001b[0;32m      4\u001b[0m     \u001b[1;32mreturn\u001b[0m\u001b[1;33m\u001b[0m\u001b[1;33m\u001b[0m\u001b[0m\n\u001b[0;32m      5\u001b[0m \u001b[1;33m\u001b[0m\u001b[0m\n\u001b[1;32m----> 6\u001b[1;33m \u001b[0mty\u001b[0m\u001b[1;33m(\u001b[0m\u001b[1;36m10\u001b[0m\u001b[1;33m,\u001b[0m\u001b[1;36m50\u001b[0m\u001b[1;33m,\u001b[0m\u001b[1;36m4\u001b[0m\u001b[1;33m)\u001b[0m\u001b[1;33m\u001b[0m\u001b[1;33m\u001b[0m\u001b[0m\n\u001b[0m",
      "\u001b[1;31mTypeError\u001b[0m: ty() takes 2 positional arguments but 3 were given"
     ]
    }
   ],
   "source": [
    "# Required or positional argument:\n",
    "def ty(y,p):\n",
    "    print(\"Entered numbers are {} and {}\".format(y,p))\n",
    "    return \n",
    "\n",
    "ty(10,50,4)"
   ]
  },
  {
   "cell_type": "code",
   "execution_count": 69,
   "id": "84723e93",
   "metadata": {},
   "outputs": [
    {
     "ename": "SyntaxError",
     "evalue": "positional argument follows keyword argument (<ipython-input-69-f35a1c83611d>, line 8)",
     "output_type": "error",
     "traceback": [
      "\u001b[1;36m  File \u001b[1;32m\"<ipython-input-69-f35a1c83611d>\"\u001b[1;36m, line \u001b[1;32m8\u001b[0m\n\u001b[1;33m    g('Prasad',45,78,saddr='PTR',56.12,'Sathish',sname='Suresh',sage=25,ssal=45000)\u001b[0m\n\u001b[1;37m                                ^\u001b[0m\n\u001b[1;31mSyntaxError\u001b[0m\u001b[1;31m:\u001b[0m positional argument follows keyword argument\n"
     ]
    }
   ],
   "source": [
    "# Variable Length argument:\n",
    "def g(h,*n,**u):\n",
    "    print(h,type(h))\n",
    "    print(n,type(n))\n",
    "    print(u,type(u))\n",
    "    return\n",
    "\n",
    "g('Prasad',45,78,saddr='PTR',56.12,'Sathish',sname='Suresh',sage=25,ssal=45000)"
   ]
  },
  {
   "cell_type": "markdown",
   "id": "069f0da4",
   "metadata": {},
   "source": [
    "# Package:\n",
    "    - Collection of Modules\n",
    "\n",
    "## Modules:\n",
    "    - Collection of variables,functions,class and methods"
   ]
  },
  {
   "cell_type": "code",
   "execution_count": 1,
   "id": "e80dde30",
   "metadata": {},
   "outputs": [],
   "source": [
    "from IT import demo"
   ]
  },
  {
   "cell_type": "code",
   "execution_count": 2,
   "id": "b408191e",
   "metadata": {},
   "outputs": [
    {
     "name": "stdout",
     "output_type": "stream",
     "text": [
      "['__builtins__', '__cached__', '__doc__', '__file__', '__loader__', '__name__', '__package__', '__spec__', 'b']\n"
     ]
    }
   ],
   "source": [
    "print(dir(demo))"
   ]
  },
  {
   "cell_type": "code",
   "execution_count": 3,
   "id": "514b4d4e",
   "metadata": {},
   "outputs": [
    {
     "data": {
      "text/plain": [
       "50"
      ]
     },
     "execution_count": 3,
     "metadata": {},
     "output_type": "execute_result"
    }
   ],
   "source": [
    "demo.b"
   ]
  },
  {
   "cell_type": "code",
   "execution_count": 4,
   "id": "bce0bd6b",
   "metadata": {},
   "outputs": [],
   "source": [
    "from IT.demo import b"
   ]
  },
  {
   "cell_type": "code",
   "execution_count": 5,
   "id": "387e309b",
   "metadata": {},
   "outputs": [
    {
     "data": {
      "text/plain": [
       "50"
      ]
     },
     "execution_count": 5,
     "metadata": {},
     "output_type": "execute_result"
    }
   ],
   "source": [
    "b"
   ]
  },
  {
   "cell_type": "code",
   "execution_count": 1,
   "id": "7a1029bb",
   "metadata": {},
   "outputs": [],
   "source": [
    "from IT import demo"
   ]
  },
  {
   "cell_type": "code",
   "execution_count": 2,
   "id": "8819e660",
   "metadata": {},
   "outputs": [
    {
     "name": "stdout",
     "output_type": "stream",
     "text": [
      "['__builtins__', '__cached__', '__doc__', '__file__', '__loader__', '__name__', '__package__', '__spec__', 'b', 'pt']\n"
     ]
    }
   ],
   "source": [
    "print(dir(demo))"
   ]
  },
  {
   "cell_type": "code",
   "execution_count": 3,
   "id": "5dd8299e",
   "metadata": {},
   "outputs": [
    {
     "data": {
      "text/plain": [
       "9"
      ]
     },
     "execution_count": 3,
     "metadata": {},
     "output_type": "execute_result"
    }
   ],
   "source": [
    "demo.pt(1,8)"
   ]
  },
  {
   "cell_type": "code",
   "execution_count": null,
   "id": "414f208b",
   "metadata": {},
   "outputs": [],
   "source": []
  }
 ],
 "metadata": {
  "kernelspec": {
   "display_name": "Python 3",
   "language": "python",
   "name": "python3"
  },
  "language_info": {
   "codemirror_mode": {
    "name": "ipython",
    "version": 3
   },
   "file_extension": ".py",
   "mimetype": "text/x-python",
   "name": "python",
   "nbconvert_exporter": "python",
   "pygments_lexer": "ipython3",
   "version": "3.7.5"
  }
 },
 "nbformat": 4,
 "nbformat_minor": 5
}
